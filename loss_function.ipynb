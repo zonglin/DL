{
 "cells": [
  {
   "cell_type": "code",
   "execution_count": 1,
   "metadata": {},
   "outputs": [],
   "source": [
    "import numpy as np\n"
   ]
  },
  {
   "cell_type": "code",
   "execution_count": 5,
   "metadata": {},
   "outputs": [],
   "source": [
    "class Loss(object):\n",
    "    def loss(self,y_true,y_pred):\n",
    "        return NotImplementedError()\n",
    "    def gradient(self,y,y_pred):\n",
    "        return NotImplementedError()\n",
    "    def ac(self,y,y_pred):\n",
    "        return 0"
   ]
  },
  {
   "cell_type": "code",
   "execution_count": 6,
   "metadata": {},
   "outputs": [],
   "source": [
    "class Squareloss(Loss):\n",
    "    def __init__(self):pass\n",
    "    \n",
    "    def loss(self,y,y_pred):\n",
    "        return 0.5*np.power((y-y_pred),2)\n",
    "    \n",
    "    def gradient(self,y,y_pred):\n",
    "        return -(y-y_pred)\n",
    "    "
   ]
  },
  {
   "cell_type": "code",
   "execution_count": null,
   "metadata": {},
   "outputs": [],
   "source": [
    "def accuracy_score(y_true,y_pred):\n",
    "    accuracy = np.sum(y_true == y_pred, axis = 0)/len(y_true)\n",
    "    return accuracy\n",
    "\n",
    "class CrossEntropy(Loss):\n",
    "    def __init__(self):pass\n",
    "    \n",
    "    def loss(self,y,p):\n",
    "        #Avoid division by zero\n",
    "        p = np.clip(p,1e-15, 1 - 1e-15)\n",
    "        return -y * np.log(p) - (1-y)*np.log(1-p)#最大似然:p^y*(1-p)^(1-y)\n",
    "    def acc(self,y,p):\n",
    "        return accuracy_score(np.argmax(y,axis=1),np.argmax(p,axis=1))\n",
    "    def gradient(self,y,p):\n",
    "        p = np.clip(p,1e-15, 1 - 1e-15)\n",
    "        return -(y/p) + (1-y)/(1-p)"
   ]
  }
 ],
 "metadata": {
  "kernelspec": {
   "display_name": "jin(python3)",
   "language": "python",
   "name": "jin"
  },
  "language_info": {
   "codemirror_mode": {
    "name": "ipython",
    "version": 3
   },
   "file_extension": ".py",
   "mimetype": "text/x-python",
   "name": "python",
   "nbconvert_exporter": "python",
   "pygments_lexer": "ipython3",
   "version": "3.6.8"
  }
 },
 "nbformat": 4,
 "nbformat_minor": 2
}

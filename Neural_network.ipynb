{
 "cells": [
  {
   "cell_type": "code",
   "execution_count": 1,
   "metadata": {},
   "outputs": [],
   "source": [
    "%run data.ipynb"
   ]
  },
  {
   "cell_type": "code",
   "execution_count": 2,
   "metadata": {},
   "outputs": [],
   "source": [
    "import numpy as np"
   ]
  },
  {
   "cell_type": "code",
   "execution_count": null,
   "metadata": {},
   "outputs": [],
   "source": [
    "class NeuralNetwork():\n",
    "    def __init__(self,optimizer,loss,validation_data=None):\n",
    "        self.optimizer = optimizer\n",
    "        self.layers = []\n",
    "        self.errors = {'training':[],\"validation\":[]}\n",
    "        self.loss_function = loss()\n",
    "        self.val_set = None\n",
    "        if validation_data:\n",
    "            X,y = validation_data\n",
    "            self.val_set = {\"X\":X, \"y\":y}\n",
    "            \n",
    "    def set_trainable(self,trainable):\n",
    "        for layer in self.layers:\n",
    "            layer.trainable = trainable\n",
    "    \n",
    "    def add(self,layer):\n",
    "        \"\"\"\n",
    "        Method which adds a layer to the neural network\n",
    "        \"\"\"\n",
    "        if self.layers:\n",
    "            #If this is not the first layer added then set the input shape\n",
    "            layer.set_input_shape(shape = self.layers[-1].output_shape())\n",
    "            #If the layer has weights that needs to be initialized\n",
    "            if hasattr(layer,'initialize'):\n",
    "                layer.initialize(optimizer = self.optimizer)\n",
    "            #Add layer to te network\n",
    "            self.layers.append(layer)\n",
    "    \n",
    "    def test_on_batch(self,X,y):\n",
    "        \"\"\"\n",
    "        Evaluates the model over a single batch of samples\n",
    "        \"\"\"\n",
    "        y_pred = self._forward_pass(X, training = False)\n",
    "        loss = np.mean(self.loss_function.loss(y,y_pred))\n",
    "        acc = self.loss_function.acc(y,y_pred)\n",
    "        return loss, acc"
   ]
  }
 ],
 "metadata": {
  "kernelspec": {
   "display_name": "jin(python3)",
   "language": "python",
   "name": "jin"
  },
  "language_info": {
   "codemirror_mode": {
    "name": "ipython",
    "version": 3
   },
   "file_extension": ".py",
   "mimetype": "text/x-python",
   "name": "python",
   "nbconvert_exporter": "python",
   "pygments_lexer": "ipython3",
   "version": "3.6.8"
  }
 },
 "nbformat": 4,
 "nbformat_minor": 2
}

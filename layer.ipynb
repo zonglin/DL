{
 "cells": [
  {
   "cell_type": "code",
   "execution_count": 4,
   "metadata": {},
   "outputs": [],
   "source": [
    "%run activation_function.ipynb"
   ]
  },
  {
   "cell_type": "code",
   "execution_count": 5,
   "metadata": {},
   "outputs": [],
   "source": [
    "import math\n",
    "import numpy as np\n",
    "import copy"
   ]
  },
  {
   "cell_type": "code",
   "execution_count": 6,
   "metadata": {},
   "outputs": [],
   "source": [
    "class Layer(object):\n",
    "    def set_input_shape(self,shape):\n",
    "        \"\"\"\n",
    "        Sets the shape that the layer expects of the\n",
    "        input in the forward pass method\n",
    "        \"\"\"\n",
    "        self.input_shape = shape\n",
    "    def layer_name(self):\n",
    "        \"\"\"\n",
    "        The name of the layer, Used is model summary\n",
    "        \"\"\"\n",
    "        return self.__class__.__name__\n",
    "    def parameters(self):\n",
    "        \"\"\"\n",
    "        The number of trainable parameters used by the \n",
    "        layer\n",
    "        \"\"\"\n",
    "        return 0\n",
    "    def forward_pass(self,X,trainging):\n",
    "        \"\"\"\n",
    "        Propogates the signal forward in the network\n",
    "        \"\"\"\n",
    "        raise NotImplementedError()\n",
    "    def backward_pass(self,accum_grad):\n",
    "        \"\"\"\n",
    "        Propogates the accumulated gradient backwards\n",
    "        in the network.      \n",
    "        \"\"\"\n",
    "        raise NotImplementedError()\n",
    "    def output_shape(self):\n",
    "        \"\"\"\n",
    "        The shape of the output produced by forward_pass\n",
    "        \"\"\"\n",
    "        raise NotImplementedError()"
   ]
  },
  {
   "cell_type": "code",
   "execution_count": null,
   "metadata": {},
   "outputs": [],
   "source": [
    "class Dense(layer):\n",
    "    \"\"\"\n",
    "    A fully_connected NN layer\n",
    "    \"\"\"\n",
    "    def __init__(self,n_units,input_shape=None):\n",
    "        self.layer_input = None\n",
    "        self.input_shape = input_shape\n",
    "        self.n_units = n_units\n",
    "        self.trainable = True\n",
    "        self.W = None\n",
    "        self.w0 = None\n",
    "    def initialize(self,optimizer):\n",
    "        #Initialize the weights\n",
    "        limit = 1/math.sqrt(self.input_shape[0])\n",
    "        self.W = np.random.uniform(-limit,limit,(self.input_shape[0],self.n_units))\n",
    "        self.w0 = np.zeros((1,self.n_units))\n",
    "        self.W_opt = copy.copy(optimizer)\n",
    "        self.w0_opt = copy.copy(optimizer)\n",
    "    def parameters(self):\n",
    "        return np.prod(self.W.shape) + np.prod(self.w0.shape)\n",
    "    def forward_pass(self,X,training = True):\n",
    "        self.layer_input = X\n",
    "        return X.dot(self.W) + self.w0\n",
    "    def backward_pass(self,accum_grad):\n",
    "        \"\"\"\n",
    "        Save weights used during forwards pass\n",
    "        \"\"\"\n",
    "        W = self.W\n",
    "        \n",
    "        #Return accumulated gradient for next layer\n",
    "        #Calculated based on the weights used during the forward pas\n",
    "        accum_grad = accum_grad.dot(W.T)\n",
    "        return accum_grad\n",
    "    \n",
    "    def output_shape(self):\n",
    "        return(self.n_units)"
   ]
  }
 ],
 "metadata": {
  "kernelspec": {
   "display_name": "jin(python3)",
   "language": "python",
   "name": "jin"
  },
  "language_info": {
   "codemirror_mode": {
    "name": "ipython",
    "version": 3
   },
   "file_extension": ".py",
   "mimetype": "text/x-python",
   "name": "python",
   "nbconvert_exporter": "python",
   "pygments_lexer": "ipython3",
   "version": "3.6.8"
  }
 },
 "nbformat": 4,
 "nbformat_minor": 2
}

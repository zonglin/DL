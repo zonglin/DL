{
 "cells": [
  {
   "cell_type": "code",
   "execution_count": 1,
   "metadata": {},
   "outputs": [],
   "source": [
    "import numpy as np\n",
    "import math\n",
    "import sys"
   ]
  },
  {
   "cell_type": "code",
   "execution_count": 2,
   "metadata": {},
   "outputs": [],
   "source": [
    "def shuffle_data(X,y,seed=None):\n",
    "    \"\"\"\n",
    "    Random shuffle of the samples in X and y\n",
    "    \"\"\"\n",
    "    if seed:\n",
    "        np.random.seed(seed)\n",
    "    idx = np.arrange(X.shape[0])\n",
    "    np.random.shuffle(idx)\n",
    "    return X[idx],y[idx]"
   ]
  },
  {
   "cell_type": "code",
   "execution_count": 7,
   "metadata": {},
   "outputs": [],
   "source": [
    "#归一化值把最小最大值调整成（0，1）或（-1，1）\n",
    "def normalize(X,axis=-1,order=2):\n",
    "    \"\"\"\n",
    "    Normalize the dataset X\n",
    "    \"\"\"\n",
    "    l2 = np.atleast_1d(np.linalg.norm(X,order,axis))\n",
    "    l2[l2 == 0]=1\n",
    "    return X/np.expand_dims(l2,axis)"
   ]
  },
  {
   "cell_type": "code",
   "execution_count": 6,
   "metadata": {},
   "outputs": [],
   "source": [
    "#标准化一般是指把均值调整成0，方差调整成1\n",
    "def standardize(X):\n",
    "    \"\"\"\n",
    "    Standardize the dataset X\n",
    "    \"\"\"\n",
    "    X_std = X\n",
    "    men = X.mean(axis=0)\n",
    "    std = X.std(axis=0)\n",
    "    for col in range(np.shape(X)[1]):\n",
    "        if std[col]:\n",
    "            X_std[:,col] = (X_std[:,col])"
   ]
  },
  {
   "cell_type": "code",
   "execution_count": 8,
   "metadata": {},
   "outputs": [],
   "source": [
    "#one-hot\n",
    "def to_categorical(x,n_col=None):\n",
    "    \"\"\"\n",
    "    One-hot encoding of nominal values\n",
    "    \"\"\"\n",
    "    if not n_col:\n",
    "        n_col = np.amax(x) + 1\n",
    "    one_hot = np.zeros((x.shape[0],n_col))\n",
    "    one_hot[np.arange(x.shape[0]),x] = 1\n",
    "    return one_hot"
   ]
  },
  {
   "cell_type": "code",
   "execution_count": 9,
   "metadata": {},
   "outputs": [],
   "source": [
    "def to_nominal(x):\n",
    "    return np.argmax(x,axis=1)"
   ]
  },
  {
   "cell_type": "code",
   "execution_count": 10,
   "metadata": {},
   "outputs": [],
   "source": [
    "def batch_iterator(X,y=None,batch_size = 64):\n",
    "    \"\"\"\n",
    "    Simple batch generator\n",
    "    \"\"\"\n",
    "    n_samples = X.shape[0]\n",
    "    for i in np.arange(0,n_samples,batch_size):\n",
    "        begin,end = i,min(i+batch_size,n_samples)\n",
    "        if y is not None:\n",
    "            yield X[begin:end],y[begin:end]\n",
    "        else:\n",
    "            yield X[begin:end]"
   ]
  },
  {
   "cell_type": "code",
   "execution_count": null,
   "metadata": {},
   "outputs": [],
   "source": []
  },
  {
   "cell_type": "code",
   "execution_count": null,
   "metadata": {},
   "outputs": [],
   "source": []
  }
 ],
 "metadata": {
  "kernelspec": {
   "display_name": "jin(python3)",
   "language": "python",
   "name": "jin"
  },
  "language_info": {
   "codemirror_mode": {
    "name": "ipython",
    "version": 3
   },
   "file_extension": ".py",
   "mimetype": "text/x-python",
   "name": "python",
   "nbconvert_exporter": "python",
   "pygments_lexer": "ipython3",
   "version": "3.6.8"
  }
 },
 "nbformat": 4,
 "nbformat_minor": 2
}

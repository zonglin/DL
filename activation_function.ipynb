{
 "cells": [
  {
   "cell_type": "code",
   "execution_count": 1,
   "metadata": {},
   "outputs": [],
   "source": [
    "import numpy as np"
   ]
  },
  {
   "cell_type": "code",
   "execution_count": 3,
   "metadata": {},
   "outputs": [],
   "source": [
    "class Sigmoid():\n",
    "    def __call__(self,x):\n",
    "        return 1/(1+np.exp(-x))\n",
    "    def gradient(self,x):\n",
    "        return self.__call__(x) * (1 - self.__call__(x))"
   ]
  },
  {
   "cell_type": "code",
   "execution_count": 4,
   "metadata": {},
   "outputs": [],
   "source": [
    "class Softmax():\n",
    "    def __call__(self,x):\n",
    "        e_x = np.exp(x-np.max(x,axis=-1,keepdim=True))\n",
    "        return e_x/np.sum(e_x,axis=-1,keepdims=True)\n",
    "    def gradient(self,x):\n",
    "        p = self.__call__(x)\n",
    "        return p*(1-p)"
   ]
  },
  {
   "cell_type": "code",
   "execution_count": 5,
   "metadata": {},
   "outputs": [],
   "source": [
    "class TanH():\n",
    "    def __call__(self,x):\n",
    "        return 2/(1+np.exp(-2*x))-1\n",
    "    def gradient(self,x):\n",
    "        return 1-np.power(self.__call__(x),2)"
   ]
  },
  {
   "cell_type": "code",
   "execution_count": 6,
   "metadata": {},
   "outputs": [],
   "source": [
    "class ReLU():\n",
    "    def __call__(self,x):\n",
    "        return np.where(x>=0,x,0)\n",
    "    def gradient(self,x):\n",
    "        return np.where(x>=0,1,0)"
   ]
  },
  {
   "cell_type": "code",
   "execution_count": 7,
   "metadata": {},
   "outputs": [],
   "source": [
    "class LeakyReLU():\n",
    "    def __init__(self,alpha=0.2):\n",
    "        self.alpha = alpha\n",
    "    def __call(self,x):\n",
    "        return np.where(x>=0,x,self.alpha*x)\n",
    "    def gradient(self,x):\n",
    "        return np.where(x>=0,1,self.alpha)"
   ]
  },
  {
   "cell_type": "code",
   "execution_count": null,
   "metadata": {},
   "outputs": [],
   "source": []
  }
 ],
 "metadata": {
  "kernelspec": {
   "display_name": "jin(python3)",
   "language": "python",
   "name": "jin"
  },
  "language_info": {
   "codemirror_mode": {
    "name": "ipython",
    "version": 3
   },
   "file_extension": ".py",
   "mimetype": "text/x-python",
   "name": "python",
   "nbconvert_exporter": "python",
   "pygments_lexer": "ipython3",
   "version": "3.6.8"
  }
 },
 "nbformat": 4,
 "nbformat_minor": 2
}
